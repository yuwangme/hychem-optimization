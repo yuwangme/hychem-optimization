{
 "cells": [
  {
   "cell_type": "code",
   "execution_count": 9,
   "metadata": {},
   "outputs": [],
   "source": [
    "# Add directory above current directory to path\n",
    "import sys; sys.path.insert(0, '..')\n",
    "\n",
    "import numpy as np\n",
    "import matplotlib.pyplot as plt\n",
    "\n",
    "from src.chemkin_wrapper import chemkin_wrapper, plot_outputs\n",
    "from src.chemkin import CHEMKIN \n",
    "from src.hychem import CONDITION, HYCHEM_A2, x_to_params, params_to_x\n",
    "\n",
    "%reload_ext autoreload\n",
    "%autoreload 2"
   ]
  },
  {
   "cell_type": "code",
   "execution_count": 10,
   "metadata": {},
   "outputs": [
    {
     "name": "stdout",
     "output_type": "stream",
     "text": [
      "Temperature: 1300 K\n",
      "Pressure: 4 atm\n",
      "POSF10325: 0.004 (fraction)\n",
      "AR: 0.996 (fraction)\n",
      "\n",
      "        t  POSF10325       CH4      C2H4      C3H6\n",
      "0  0.0000   0.004000  0.000000  0.000000  0.000000\n",
      "1  1.0817   0.003925  0.000026  0.000026  0.000053\n",
      "2  2.0395   0.003861  0.000049  0.000049  0.000099\n",
      "3  3.0247   0.003797  0.000072  0.000071  0.000144\n",
      "4  4.0099   0.003735  0.000094  0.000093  0.000187\n"
     ]
    },
    {
     "data": {
      "text/plain": [
       "array([-8.05727747e-08, -7.03235967e-09, -4.69534520e-08, -1.01197279e-06,\n",
       "       -6.19596694e-07,  1.66744746e-08, -1.21922759e-07, -2.07501334e-08,\n",
       "        8.65293519e-07, -1.13794749e-08, -9.71888340e-07,  1.39156831e-09,\n",
       "       -9.24208449e-11, -8.38430276e-09, -4.85685761e-11,  0.00000000e+00,\n",
       "        0.00000000e+00,  0.00000000e+00,  0.00000000e+00,  0.00000000e+00,\n",
       "        0.00000000e+00,  0.00000000e+00,  0.00000000e+00,  0.00000000e+00,\n",
       "        0.00000000e+00,  0.00000000e+00,  0.00000000e+00])"
      ]
     },
     "execution_count": 10,
     "metadata": {},
     "output_type": "execute_result"
    }
   ],
   "source": [
    "np.random.seed(9123)\n",
    "\n",
    "hc = HYCHEM_A2(\"../data/cheminp\", \"../workingdir\", CHEMKIN(\"../workingdir\"))\n",
    "cond = CONDITION(1300, 4, {'POSF10325': .004, 'AR': .996})\n",
    "print(cond)\n",
    "\n",
    "true_x = np.random.rand(27)\n",
    "hc.write_cheminp(true_x)\n",
    "true_d = hc.simulate(cond).loc[:, [\"t\", \"POSF10325\", \"CH4\", \"C2H4\", \"C3H6\"]]\n",
    "print(true_d.head())\n",
    "\n",
    "iter_x = np.random.rand(27)\n",
    "hc.loss(iter_x, true_d, cond)**0.5\n",
    "hc.grad(range(15))"
   ]
  },
  {
   "cell_type": "code",
   "execution_count": 11,
   "metadata": {},
   "outputs": [
    {
     "data": {
      "image/png": "[encoded data removed]",
      "text/plain": [
       "<Figure size 432x288 with 1 Axes>"
      ]
     },
     "metadata": {
      "needs_background": "light"
     },
     "output_type": "display_data"
    },
    {
     "name": "stdout",
     "output_type": "stream",
     "text": [
      "epoch 0\n",
      "\t\texp 0 loss 0.0033606030658497547\n",
      "\t\t\tchange 0.1288048322250109\n",
      "\t\t\tchange 0.002152212539570606\n",
      "\t\t\tchange 0.0008605634470305838\n",
      "\t\t\tchange 0.006734834090562448\n",
      "\t\t\tchange 0.00142081830794351\n",
      "\t\t\tchange 0.04090253871898228\n",
      "\t\t\tchange 0.00015016717412602693\n",
      "\t\t\tchange 0.0658013527332282\n",
      "\t\t\tchange 0.022428681732426143\n",
      "epoch 1\n"
     ]
    },
    {
     "ename": "ValueError",
     "evalue": "x and y arrays must have at least 2 entries",
     "output_type": "error",
     "traceback": [
      "\u001b[0;31m---------------------------------------------------------------------------\u001b[0m",
      "\u001b[0;31mValueError\u001b[0m                                Traceback (most recent call last)",
      "\u001b[0;32m<ipython-input-11-c536acbcc327>\u001b[0m in \u001b[0;36m<module>\u001b[0;34m\u001b[0m\n\u001b[1;32m     35\u001b[0m         \u001b[0malpha\u001b[0m \u001b[0;34m=\u001b[0m \u001b[0;36m1e4\u001b[0m\u001b[0;34m/\u001b[0m\u001b[0;34m(\u001b[0m\u001b[0;36m1\u001b[0m\u001b[0;34m+\u001b[0m\u001b[0miter\u001b[0m\u001b[0;34m)\u001b[0m\u001b[0;34m**\u001b[0m\u001b[0;36m0.5\u001b[0m  \u001b[0;31m# step size\u001b[0m\u001b[0;34m\u001b[0m\u001b[0;34m\u001b[0m\u001b[0m\n\u001b[1;32m     36\u001b[0m         \u001b[0mcond\u001b[0m\u001b[0;34m,\u001b[0m \u001b[0mtrue_d\u001b[0m \u001b[0;34m=\u001b[0m \u001b[0mconds\u001b[0m\u001b[0;34m[\u001b[0m\u001b[0mi_exp\u001b[0m\u001b[0;34m]\u001b[0m\u001b[0;34m,\u001b[0m \u001b[0mdfs\u001b[0m\u001b[0;34m[\u001b[0m\u001b[0mi_exp\u001b[0m\u001b[0;34m]\u001b[0m\u001b[0;34m\u001b[0m\u001b[0;34m\u001b[0m\u001b[0m\n\u001b[0;32m---> 37\u001b[0;31m         \u001b[0mloss_hist\u001b[0m\u001b[0;34m[\u001b[0m\u001b[0miter\u001b[0m\u001b[0;34m]\u001b[0m \u001b[0;34m=\u001b[0m \u001b[0mloss\u001b[0m \u001b[0;34m=\u001b[0m \u001b[0mhc\u001b[0m\u001b[0;34m.\u001b[0m\u001b[0mloss\u001b[0m\u001b[0;34m(\u001b[0m\u001b[0miter_x\u001b[0m\u001b[0;34m,\u001b[0m \u001b[0mtrue_d\u001b[0m\u001b[0;34m,\u001b[0m \u001b[0mcond\u001b[0m\u001b[0;34m)\u001b[0m\u001b[0;34m**\u001b[0m\u001b[0;36m0.5\u001b[0m\u001b[0;34m\u001b[0m\u001b[0;34m\u001b[0m\u001b[0m\n\u001b[0m\u001b[1;32m     38\u001b[0m         \u001b[0mprint\u001b[0m\u001b[0;34m(\u001b[0m\u001b[0;34mf\"\\t\\texp {i_exp} loss {loss}\"\u001b[0m\u001b[0;34m)\u001b[0m\u001b[0;34m\u001b[0m\u001b[0;34m\u001b[0m\u001b[0m\n\u001b[1;32m     39\u001b[0m \u001b[0;34m\u001b[0m\u001b[0m\n",
      "\u001b[0;32m~/Documents/Research/hychem-optimization/src/hychem.py\u001b[0m in \u001b[0;36mloss\u001b[0;34m(self, x, d, cond)\u001b[0m\n\u001b[1;32m    181\u001b[0m         \u001b[0;34m''' loss of HyChem parameters x against data d at condition cond '''\u001b[0m\u001b[0;34m\u001b[0m\u001b[0;34m\u001b[0m\u001b[0m\n\u001b[1;32m    182\u001b[0m         \u001b[0mself\u001b[0m\u001b[0;34m.\u001b[0m\u001b[0mx\u001b[0m\u001b[0;34m,\u001b[0m \u001b[0mself\u001b[0m\u001b[0;34m.\u001b[0m\u001b[0md\u001b[0m\u001b[0;34m,\u001b[0m \u001b[0mself\u001b[0m\u001b[0;34m.\u001b[0m\u001b[0mcond\u001b[0m \u001b[0;34m=\u001b[0m \u001b[0mx\u001b[0m\u001b[0;34m.\u001b[0m\u001b[0mcopy\u001b[0m\u001b[0;34m(\u001b[0m\u001b[0;34m)\u001b[0m\u001b[0;34m,\u001b[0m \u001b[0md\u001b[0m\u001b[0;34m.\u001b[0m\u001b[0mcopy\u001b[0m\u001b[0;34m(\u001b[0m\u001b[0;34m)\u001b[0m\u001b[0;34m,\u001b[0m \u001b[0mcond\u001b[0m\u001b[0;34m\u001b[0m\u001b[0;34m\u001b[0m\u001b[0m\n\u001b[0;32m--> 183\u001b[0;31m         \u001b[0mself\u001b[0m\u001b[0;34m.\u001b[0m\u001b[0mcost\u001b[0m \u001b[0;34m=\u001b[0m \u001b[0mself\u001b[0m\u001b[0;34m.\u001b[0m\u001b[0m_loss\u001b[0m\u001b[0;34m(\u001b[0m\u001b[0mx\u001b[0m\u001b[0;34m)\u001b[0m\u001b[0;34m\u001b[0m\u001b[0;34m\u001b[0m\u001b[0m\n\u001b[0m\u001b[1;32m    184\u001b[0m         \u001b[0;32mreturn\u001b[0m \u001b[0mself\u001b[0m\u001b[0;34m.\u001b[0m\u001b[0mcost\u001b[0m\u001b[0;34m\u001b[0m\u001b[0;34m\u001b[0m\u001b[0m\n\u001b[1;32m    185\u001b[0m \u001b[0;34m\u001b[0m\u001b[0m\n",
      "\u001b[0;32m~/Documents/Research/hychem-optimization/src/hychem.py\u001b[0m in \u001b[0;36m_loss\u001b[0;34m(self, x)\u001b[0m\n\u001b[1;32m    170\u001b[0m         \u001b[0mcommon_s\u001b[0m \u001b[0;34m=\u001b[0m \u001b[0mlist\u001b[0m\u001b[0;34m(\u001b[0m\u001b[0mset\u001b[0m\u001b[0;34m(\u001b[0m\u001b[0md\u001b[0m\u001b[0;34m)\u001b[0m\u001b[0;34m.\u001b[0m\u001b[0mintersection\u001b[0m\u001b[0;34m(\u001b[0m\u001b[0mset\u001b[0m\u001b[0;34m(\u001b[0m\u001b[0msim\u001b[0m\u001b[0;34m)\u001b[0m\u001b[0;34m)\u001b[0m\u001b[0;34m.\u001b[0m\u001b[0mdifference\u001b[0m\u001b[0;34m(\u001b[0m\u001b[0mset\u001b[0m\u001b[0;34m(\u001b[0m\u001b[0;34m[\u001b[0m\u001b[0;34m\"t\"\u001b[0m\u001b[0;34m]\u001b[0m\u001b[0;34m)\u001b[0m\u001b[0;34m)\u001b[0m\u001b[0;34m)\u001b[0m\u001b[0;34m\u001b[0m\u001b[0;34m\u001b[0m\u001b[0m\n\u001b[1;32m    171\u001b[0m         \u001b[0mfp\u001b[0m \u001b[0;34m=\u001b[0m \u001b[0msim\u001b[0m\u001b[0;34m[\u001b[0m\u001b[0mcommon_s\u001b[0m\u001b[0;34m]\u001b[0m\u001b[0;34m\u001b[0m\u001b[0;34m\u001b[0m\u001b[0m\n\u001b[0;32m--> 172\u001b[0;31m         \u001b[0minterp_f\u001b[0m \u001b[0;34m=\u001b[0m \u001b[0minterp1d\u001b[0m\u001b[0;34m(\u001b[0m\u001b[0mtp\u001b[0m\u001b[0;34m,\u001b[0m \u001b[0mfp\u001b[0m\u001b[0;34m,\u001b[0m \u001b[0maxis\u001b[0m\u001b[0;34m=\u001b[0m\u001b[0;36m0\u001b[0m\u001b[0;34m,\u001b[0m \u001b[0mfill_value\u001b[0m\u001b[0;34m=\u001b[0m\u001b[0;34m\"extrapolate\"\u001b[0m\u001b[0;34m)\u001b[0m\u001b[0;34m\u001b[0m\u001b[0;34m\u001b[0m\u001b[0m\n\u001b[0m\u001b[1;32m    173\u001b[0m         \u001b[0mf\u001b[0m \u001b[0;34m=\u001b[0m \u001b[0minterp_f\u001b[0m\u001b[0;34m(\u001b[0m\u001b[0mt\u001b[0m\u001b[0;34m)\u001b[0m\u001b[0;34m\u001b[0m\u001b[0;34m\u001b[0m\u001b[0m\n\u001b[1;32m    174\u001b[0m         \u001b[0;31m# mean squared error\u001b[0m\u001b[0;34m\u001b[0m\u001b[0;34m\u001b[0m\u001b[0;34m\u001b[0m\u001b[0m\n",
      "\u001b[0;32m~/opt/anaconda3/lib/python3.7/site-packages/scipy/interpolate/interpolate.py\u001b[0m in \u001b[0;36m__init__\u001b[0;34m(***failed resolving arguments***)\u001b[0m\n\u001b[1;32m    539\u001b[0m         \u001b[0;32mif\u001b[0m \u001b[0mlen\u001b[0m\u001b[0;34m(\u001b[0m\u001b[0mself\u001b[0m\u001b[0;34m.\u001b[0m\u001b[0mx\u001b[0m\u001b[0;34m)\u001b[0m \u001b[0;34m<\u001b[0m \u001b[0mminval\u001b[0m\u001b[0;34m:\u001b[0m\u001b[0;34m\u001b[0m\u001b[0;34m\u001b[0m\u001b[0m\n\u001b[1;32m    540\u001b[0m             raise ValueError(\"x and y arrays must have at \"\n\u001b[0;32m--> 541\u001b[0;31m                              \"least %d entries\" % minval)\n\u001b[0m\u001b[1;32m    542\u001b[0m \u001b[0;34m\u001b[0m\u001b[0m\n\u001b[1;32m    543\u001b[0m     \u001b[0;34m@\u001b[0m\u001b[0mproperty\u001b[0m\u001b[0;34m\u001b[0m\u001b[0;34m\u001b[0m\u001b[0m\n",
      "\u001b[0;31mValueError\u001b[0m: x and y arrays must have at least 2 entries"
     ]
    }
   ],
   "source": [
    "np.random.seed(39123)\n",
    "hc = HYCHEM_A2(\"../data/cheminp\", \"../workingdir\", CHEMKIN(\"../workingdir\"))\n",
    "true_x = np.random.rand(27)\n",
    "Ts = [1300]\n",
    "n_exp = len(Ts)\n",
    "conds = []\n",
    "dfs = []\n",
    "for i in range(len(Ts)):\n",
    "    cond = CONDITION(Ts[i], 4, {'POSF10325': .004, 'AR': .996})\n",
    "    conds.append(cond)\n",
    "    hc.write_cheminp(true_x)\n",
    "    true_d = hc.simulate(cond).loc[:, [\"t\", \"POSF10325\", \"CH4\", \"C2H4\", \"C3H6\", \"iC4H8\"]]\n",
    "    dfs.append(true_d)\n",
    "\n",
    "iter_x = np.random.rand(27)\n",
    "\n",
    "momentum = np.zeros_like(iter_x)\n",
    "\n",
    "idx = np.array([0,1,2,3,4,5,6,9,12])\n",
    "n_idx = idx.size\n",
    "plt.plot(iter_x[idx], true_x[idx], 'o')\n",
    "for i in idx:\n",
    "    plt.text(iter_x[i], true_x[i], i)\n",
    "plt.plot([0, 1], [0, 1], 'r-')\n",
    "plt.show()\n",
    "n_epoch = 10\n",
    "iter_x_hist = np.zeros((n_epoch*n_exp*n_idx, n_idx))\n",
    "loss_hist = np.zeros(n_epoch*n_exp)\n",
    "iter = 0\n",
    "for epoch in range(n_epoch):\n",
    "    print(f\"epoch {epoch}\")\n",
    "    last_iter_x = iter_x.copy()\n",
    "    iter_x += epoch/(epoch+3)*momentum\n",
    "    for i_exp in np.random.permutation(n_exp):\n",
    "        alpha = 1e3/(1+iter)**0.5  # step size\n",
    "        cond, true_d = conds[i_exp], dfs[i_exp]\n",
    "        loss_hist[iter] = loss = hc.loss(iter_x, true_d, cond)**0.5\n",
    "        print(f\"\\t\\texp {i_exp} loss {loss}\")\n",
    "        \n",
    "        count = 0\n",
    "        for i in np.random.permutation(idx):\n",
    "            iter_x_hist[iter*n_idx+count] = iter_x[idx]\n",
    "            count += 1\n",
    "            gi = hc.grad([i])\n",
    "            iter_x -= alpha*gi\n",
    "            iter_x[iter_x>1] = 1\n",
    "            iter_x[iter_x<0] = 0\n",
    "            change = np.linalg.norm(alpha*gi, 1)\n",
    "            print(f\"\\t\\t\\tchange {change}\")\n",
    "        \n",
    "        iter += 1\n",
    "    momentum = iter_x - last_iter_x"
   ]
  },
  {
   "cell_type": "code",
   "execution_count": 12,
   "metadata": {},
   "outputs": [
    {
     "data": {
      "image/png": "[encoded data removed]",
      "text/plain": [
       "<Figure size 432x288 with 1 Axes>"
      ]
     },
     "metadata": {
      "needs_background": "light"
     },
     "output_type": "display_data"
    }
   ],
   "source": [
    "plt.plot(iter_x[range(n_idx)], true_x[range(n_idx)], 'o');\n",
    "for i in range(n_idx):\n",
    "    plt.text(iter_x[i], true_x[i], i)\n",
    "plt.plot([0, 1], [0, 1], 'r-');"
   ]
  },
  {
   "cell_type": "code",
   "execution_count": 13,
   "metadata": {},
   "outputs": [
    {
     "data": {
      "text/plain": [
       "(0, 1)"
      ]
     },
     "execution_count": 13,
     "metadata": {},
     "output_type": "execute_result"
    },
    {
     "data": {
      "image/png": "[encoded data removed]",
      "text/plain": [
       "<Figure size 432x288 with 1 Axes>"
      ]
     },
     "metadata": {
      "needs_background": "light"
     },
     "output_type": "display_data"
    }
   ],
   "source": [
    "plt.plot(iter_x_hist);\n",
    "plt.ylim([0, 1])"
   ]
  },
  {
   "cell_type": "code",
   "execution_count": null,
   "metadata": {},
   "outputs": [],
   "source": [
    "plt.plot(loss_hist, \"-o\");\n",
    "plt.yscale(\"log\")"
   ]
  },
  {
   "cell_type": "code",
   "execution_count": null,
   "metadata": {},
   "outputs": [],
   "source": [
    "hc.x"
   ]
  },
  {
   "cell_type": "code",
   "execution_count": null,
   "metadata": {},
   "outputs": [],
   "source": [
    "iter_x"
   ]
  },
  {
   "cell_type": "code",
   "execution_count": null,
   "metadata": {},
   "outputs": [],
   "source": []
  }
 ],
 "metadata": {
  "kernelspec": {
   "display_name": "Python 3",
   "language": "python",
   "name": "python3"
  },
  "language_info": {
   "codemirror_mode": {
    "name": "ipython",
    "version": 3
   },
   "file_extension": ".py",
   "mimetype": "text/x-python",
   "name": "python",
   "nbconvert_exporter": "python",
   "pygments_lexer": "ipython3",
   "version": "3.7.4"
  }
 },
 "nbformat": 4,
 "nbformat_minor": 4
}
